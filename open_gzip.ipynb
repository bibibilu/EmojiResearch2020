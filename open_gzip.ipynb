{
 "cells": [
  {
   "cell_type": "code",
   "execution_count": 40,
   "metadata": {},
   "outputs": [],
   "source": [
    "import gzip, re\n",
    "import pandas as pd\n",
    "import json"
   ]
  },
  {
   "cell_type": "code",
   "execution_count": 2,
   "metadata": {},
   "outputs": [
    {
     "name": "stdout",
     "output_type": "stream",
     "text": [
      "1.Twitter Users___ Emotion, Emoticons and Scaling Metrics Based Categoric Interaction Analysis[#487611]-611710.pdf\r\n",
      "Multi-class Sentiment Classification on Twitter using an Emoji Training Heuristic.pdf\r\n",
      "Revealing Patterns of Twitter Emoji Usage in Barcelona and Madrid.pdf\r\n",
      "SemEval 2018 Task 2- Multilingual Emoji Prediction.pdf\r\n",
      "Twitter Sentiment Analysis via Bi-sense Emoji Embedding and Attention-based LSTM.pdf\r\n",
      "Twitter corpus of Resource-Scarce Languages for Sentiment Analysis and Multilingual Emoji Prediction.pdf\r\n",
      "Untitled.ipynb\r\n",
      "Untitled1.ipynb\r\n",
      "Using Neural Networks to Predict Emoji Usage from Twitter Data.pdf\r\n",
      "Varying linguistic purposes of emoji in (Twitter) context.pdf\r\n",
      "twitter-decahose-2016-10-01-00.json.gz\r\n"
     ]
    }
   ],
   "source": [
    "!ls"
   ]
  },
  {
   "cell_type": "code",
   "execution_count": 4,
   "metadata": {},
   "outputs": [],
   "source": [
    "path = 'twitter-decahose-2016-10-01-00.json.gz'\n",
    "# data = pd.read_json(path, compression = 'gzip')"
   ]
  },
  {
   "cell_type": "code",
   "execution_count": 54,
   "metadata": {},
   "outputs": [
    {
     "name": "stdout",
     "output_type": "stream",
     "text": [
      "{'contributors': None, 'truncated': False, 'text': '@Raiteri10 siiii💔😢', 'is_quote_status': False, 'in_reply_to_status_id': 782006892403056640, 'id': 782007092521689088, 'favorite_count': 0, 'source': '<a href=\"http://twitter.com/download/android\" rel=\"nofollow\">Twitter for Android</a>', 'retweeted': False, 'coordinates': None, 'timestamp_ms': '1475279994503', 'entities': {'user_mentions': [{'indices': [0, 10], 'screen_name': 'Raiteri10', 'id': 781321019281797121, 'name': 'Rodrigo Raiteri', 'id_str': '781321019281797121'}], 'symbols': [], 'hashtags': [], 'urls': []}, 'in_reply_to_screen_name': 'Raiteri10', 'in_reply_to_user_id': 781321019281797121, 'display_text_range': [11, 18], 'retweet_count': 0, 'id_str': '782007092521689088', 'favorited': False, 'user': {'follow_request_sent': None, 'profile_use_background_image': True, 'id': 2786580857, 'verified': False, 'profile_image_url_https': 'https://pbs.twimg.com/profile_images/780940328228495360/cDsXmIlJ_normal.jpg', 'profile_sidebar_fill_color': '000000', 'is_translator': False, 'geo_enabled': True, 'profile_text_color': '000000', 'followers_count': 448, 'protected': False, 'location': 'La Pampa, Guatraché ', 'default_profile_image': False, 'id_str': '2786580857', 'utc_offset': None, 'statuses_count': 16552, 'description': 'Snap:karenguzman74👻', 'friends_count': 247, 'derived': {'locations': [{'country': 'Argentina', 'region': 'La Pampa', 'geo': {'type': 'point', 'coordinates': [-66.0, -37.0]}, 'country_code': 'AR', 'full_name': 'La Pampa, Argentina'}]}, 'profile_link_color': 'E81C4F', 'profile_image_url': 'http://pbs.twimg.com/profile_images/780940328228495360/cDsXmIlJ_normal.jpg', 'notifications': None, 'profile_background_image_url_https': 'https://pbs.twimg.com/profile_background_images/700074544548225024/kpjHIxKg.jpg', 'profile_background_color': '022330', 'profile_banner_url': 'https://pbs.twimg.com/profile_banners/2786580857/1475096628', 'profile_background_image_url': 'http://pbs.twimg.com/profile_background_images/700074544548225024/kpjHIxKg.jpg', 'screen_name': 'kaarenguzman1', 'lang': 'es', 'profile_background_tile': False, 'favourites_count': 4828, 'name': '♓️', 'url': 'https://instagram.com/guzman_karen_/', 'created_at': 'Sat Sep 27 02:18:49 +0000 2014', 'contributors_enabled': False, 'time_zone': None, 'profile_sidebar_border_color': '000000', 'default_profile': False, 'following': None, 'listed_count': 0}, 'geo': None, 'in_reply_to_user_id_str': '781321019281797121', 'lang': 'und', 'created_at': 'Fri Sep 30 23:59:54 +0000 2016', 'filter_level': 'low', 'in_reply_to_status_id_str': '782006892403056640', 'place': None}\n"
     ]
    }
   ],
   "source": [
    "with gzip.open(path, 'rb') as zip_file:\n",
    "    for line in zip_file:\n",
    "        line = json.loads(line)\n",
    "        print(line)\n",
    "        break\n",
    "zip_file.close()"
   ]
  },
  {
   "cell_type": "code",
   "execution_count": 59,
   "metadata": {},
   "outputs": [
    {
     "name": "stdout",
     "output_type": "stream",
     "text": [
      "CPU times: user 2min 34s, sys: 2 s, total: 2min 36s\n",
      "Wall time: 2min 37s\n"
     ]
    }
   ],
   "source": [
    "%%time\n",
    "texts = []\n",
    "hashtags = []\n",
    "with gzip.open(path, 'rb') as zip_file:\n",
    "    for line in zip_file:\n",
    "        line = json.loads(line)\n",
    "        texts.append(line['text'])\n",
    "        hashtags.append(line['entities']['hashtags'])\n",
    "zip_file.close()"
   ]
  },
  {
   "cell_type": "code",
   "execution_count": 70,
   "metadata": {},
   "outputs": [],
   "source": [
    "count = 0\n",
    "emoji_pattern = re.compile(\"[\"\n",
    "                           u\"\\U000000A0-\\U0001FA90\"\n",
    "                           \"]+\", flags=re.UNICODE)\n",
    "for text in texts:\n",
    "    if emoji_pattern.search(text):\n",
    "        count += 1"
   ]
  },
  {
   "cell_type": "code",
   "execution_count": 71,
   "metadata": {},
   "outputs": [
    {
     "data": {
      "text/plain": [
       "0.6053075537571398"
      ]
     },
     "execution_count": 71,
     "metadata": {},
     "output_type": "execute_result"
    }
   ],
   "source": [
    "count/len(texts)"
   ]
  },
  {
   "cell_type": "code",
   "execution_count": 66,
   "metadata": {},
   "outputs": [],
   "source": [
    "count = 0\n",
    "for tag in hashtags:\n",
    "    if len(tag) != 0:\n",
    "        count += 1"
   ]
  },
  {
   "cell_type": "code",
   "execution_count": 67,
   "metadata": {},
   "outputs": [
    {
     "data": {
      "text/plain": [
       "0.1835229585857215"
      ]
     },
     "execution_count": 67,
     "metadata": {},
     "output_type": "execute_result"
    }
   ],
   "source": [
    "count/len(hashtags)"
   ]
  },
  {
   "cell_type": "code",
   "execution_count": null,
   "metadata": {},
   "outputs": [],
   "source": []
  }
 ],
 "metadata": {
  "kernelspec": {
   "display_name": "Python 3",
   "language": "python",
   "name": "python3"
  },
  "language_info": {
   "codemirror_mode": {
    "name": "ipython",
    "version": 3
   },
   "file_extension": ".py",
   "mimetype": "text/x-python",
   "name": "python",
   "nbconvert_exporter": "python",
   "pygments_lexer": "ipython3",
   "version": "3.7.3"
  }
 },
 "nbformat": 4,
 "nbformat_minor": 2
}
